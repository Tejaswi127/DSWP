{
 "cells": [
  {
   "cell_type": "code",
   "execution_count": 5,
   "id": "58e4db6d",
   "metadata": {},
   "outputs": [
    {
     "name": "stdout",
     "output_type": "stream",
     "text": [
      "600000\n",
      "3000\n",
      "4000\n",
      "56000.0\n"
     ]
    }
   ],
   "source": [
    "income=int(input())\n",
    "hra=int(input())\n",
    "deductions=int(input())\n",
    "taxable_amount=income-hra*12-deductions\n",
    "tax=0\n",
    "if(taxable_amount<300000):\n",
    "    print(\"no tax\")\n",
    "elif(taxable_amount>300000 and taxable_amount<=600000):\n",
    "    tax=taxable_amount*0.1\n",
    "elif(taxable_amount<600000 and taxable_amount<=1000000):\n",
    "    tax=taxable_amount*0.15\n",
    "elif(taxable_amount>1000000):\n",
    "    tax=taxable_amount*0.2\n",
    "print(tax)\n",
    "    \n"
   ]
  },
  {
   "cell_type": "code",
   "execution_count": null,
   "id": "fb93f283",
   "metadata": {},
   "outputs": [],
   "source": []
  },
  {
   "cell_type": "code",
   "execution_count": null,
   "id": "f5832e14",
   "metadata": {},
   "outputs": [],
   "source": []
  }
 ],
 "metadata": {
  "kernelspec": {
   "display_name": "Python 3 (ipykernel)",
   "language": "python",
   "name": "python3"
  },
  "language_info": {
   "codemirror_mode": {
    "name": "ipython",
    "version": 3
   },
   "file_extension": ".py",
   "mimetype": "text/x-python",
   "name": "python",
   "nbconvert_exporter": "python",
   "pygments_lexer": "ipython3",
   "version": "3.9.12"
  }
 },
 "nbformat": 4,
 "nbformat_minor": 5
}
