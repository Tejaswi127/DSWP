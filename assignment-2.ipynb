{
 "cells": [
  {
   "cell_type": "code",
   "execution_count": 2,
   "id": "0adf14b8",
   "metadata": {},
   "outputs": [
    {
     "data": {
      "text/plain": [
       "{'student names': ['tejaswi', 'ramya', 'askaya', 'harika'],\n",
       " 'rollno': ['19881A05B9', '19881A0521', '19881A1262', '19881A0485'],\n",
       " 'ssc': ['9.5', '10', '9.8', '10'],\n",
       " 'inter': ['925', '982', '987', '987'],\n",
       " 'cgpa': ['8.21', '9.3', '8.9', '9.5'],\n",
       " 'programming language preffered': ['python', 'java', 'c', 'python']}"
      ]
     },
     "execution_count": 2,
     "metadata": {},
     "output_type": "execute_result"
    }
   ],
   "source": [
    "import numpy as np\n",
    "import pandas as pd\n",
    "dict1={\"student names\":['tejaswi','ramya','askaya','harika'],\n",
    "       \"rollno\":['19881A05B9','19881A0521','19881A1262','19881A0485'],\n",
    "       \"ssc\":['9.5','10','9.8','10'],\n",
    "       \"inter\":['925','982','987','987'],\n",
    "       \"cgpa\":['8.21','9.3','8.9','9.5'],\n",
    "       \"programming language preffered\":['python','java','c','python']}\n",
    "dict1\n"
   ]
  },
  {
   "cell_type": "code",
   "execution_count": 3,
   "id": "eb7b2f5f",
   "metadata": {},
   "outputs": [
    {
     "data": {
      "text/html": [
       "<div>\n",
       "<style scoped>\n",
       "    .dataframe tbody tr th:only-of-type {\n",
       "        vertical-align: middle;\n",
       "    }\n",
       "\n",
       "    .dataframe tbody tr th {\n",
       "        vertical-align: top;\n",
       "    }\n",
       "\n",
       "    .dataframe thead th {\n",
       "        text-align: right;\n",
       "    }\n",
       "</style>\n",
       "<table border=\"1\" class=\"dataframe\">\n",
       "  <thead>\n",
       "    <tr style=\"text-align: right;\">\n",
       "      <th></th>\n",
       "      <th>student names</th>\n",
       "      <th>rollno</th>\n",
       "      <th>ssc</th>\n",
       "      <th>inter</th>\n",
       "      <th>cgpa</th>\n",
       "      <th>programming language preffered</th>\n",
       "    </tr>\n",
       "  </thead>\n",
       "  <tbody>\n",
       "    <tr>\n",
       "      <th>0</th>\n",
       "      <td>tejaswi</td>\n",
       "      <td>19881A05B9</td>\n",
       "      <td>9.5</td>\n",
       "      <td>925</td>\n",
       "      <td>8.21</td>\n",
       "      <td>python</td>\n",
       "    </tr>\n",
       "    <tr>\n",
       "      <th>1</th>\n",
       "      <td>ramya</td>\n",
       "      <td>19881A0521</td>\n",
       "      <td>10</td>\n",
       "      <td>982</td>\n",
       "      <td>9.3</td>\n",
       "      <td>java</td>\n",
       "    </tr>\n",
       "    <tr>\n",
       "      <th>2</th>\n",
       "      <td>askaya</td>\n",
       "      <td>19881A1262</td>\n",
       "      <td>9.8</td>\n",
       "      <td>987</td>\n",
       "      <td>8.9</td>\n",
       "      <td>c</td>\n",
       "    </tr>\n",
       "    <tr>\n",
       "      <th>3</th>\n",
       "      <td>harika</td>\n",
       "      <td>19881A0485</td>\n",
       "      <td>10</td>\n",
       "      <td>987</td>\n",
       "      <td>9.5</td>\n",
       "      <td>python</td>\n",
       "    </tr>\n",
       "  </tbody>\n",
       "</table>\n",
       "</div>"
      ],
      "text/plain": [
       "  student names      rollno  ssc inter  cgpa programming language preffered\n",
       "0       tejaswi  19881A05B9  9.5   925  8.21                         python\n",
       "1         ramya  19881A0521   10   982   9.3                           java\n",
       "2        askaya  19881A1262  9.8   987   8.9                              c\n",
       "3        harika  19881A0485   10   987   9.5                         python"
      ]
     },
     "execution_count": 3,
     "metadata": {},
     "output_type": "execute_result"
    }
   ],
   "source": [
    "df=pd.DataFrame(dict1)\n",
    "df"
   ]
  },
  {
   "cell_type": "code",
   "execution_count": null,
   "id": "c37cbc28",
   "metadata": {},
   "outputs": [],
   "source": []
  }
 ],
 "metadata": {
  "kernelspec": {
   "display_name": "Python 3 (ipykernel)",
   "language": "python",
   "name": "python3"
  },
  "language_info": {
   "codemirror_mode": {
    "name": "ipython",
    "version": 3
   },
   "file_extension": ".py",
   "mimetype": "text/x-python",
   "name": "python",
   "nbconvert_exporter": "python",
   "pygments_lexer": "ipython3",
   "version": "3.9.12"
  }
 },
 "nbformat": 4,
 "nbformat_minor": 5
}
