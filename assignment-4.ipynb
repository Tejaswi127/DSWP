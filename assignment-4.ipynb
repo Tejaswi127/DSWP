{
 "cells": [
  {
   "cell_type": "code",
   "execution_count": 33,
   "id": "dee92ed9",
   "metadata": {},
   "outputs": [
    {
     "name": "stdout",
     "output_type": "stream",
     "text": [
      "63\n",
      "prime\n",
      "not divisible\n",
      "odd\n",
      "2016.0\n"
     ]
    }
   ],
   "source": [
    "def prime(n):\n",
    "    flag=False\n",
    "    for i in range(2,n):\n",
    "        if(n%i==0):\n",
    "            flag=True\n",
    "        break\n",
    "    if(flag):\n",
    "        print(\"not prime\")\n",
    "    else:\n",
    "        print(\"prime\")\n",
    "def evenorodd(n):\n",
    "    if(n%2==0):\n",
    "        print(\"even\")\n",
    "    else:\n",
    "        print(\"odd\")\n",
    "def div(n):\n",
    "    if(n%5==0):\n",
    "        print(\"divisible\")\n",
    "    else:\n",
    "        print(\"not divisible\")\n",
    "n=int(input())\n",
    "prime(n)\n",
    "div(n)\n",
    "evenorodd(n)\n",
    "print((n*(n+1))/2)\n",
    "    "
   ]
  },
  {
   "cell_type": "code",
   "execution_count": null,
   "id": "1cdb6d22",
   "metadata": {},
   "outputs": [],
   "source": []
  },
  {
   "cell_type": "code",
   "execution_count": null,
   "id": "3a5ab110",
   "metadata": {},
   "outputs": [],
   "source": []
  },
  {
   "cell_type": "code",
   "execution_count": null,
   "id": "0d69fe72",
   "metadata": {},
   "outputs": [],
   "source": []
  }
 ],
 "metadata": {
  "kernelspec": {
   "display_name": "Python 3 (ipykernel)",
   "language": "python",
   "name": "python3"
  },
  "language_info": {
   "codemirror_mode": {
    "name": "ipython",
    "version": 3
   },
   "file_extension": ".py",
   "mimetype": "text/x-python",
   "name": "python",
   "nbconvert_exporter": "python",
   "pygments_lexer": "ipython3",
   "version": "3.9.12"
  }
 },
 "nbformat": 4,
 "nbformat_minor": 5
}
